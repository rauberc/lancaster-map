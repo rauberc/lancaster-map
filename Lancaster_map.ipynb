{
  "cells": [
    {
      "cell_type": "markdown",
      "source": [
        "Installing the packages."
      ],
      "metadata": {
        "id": "icrXASEly_hs"
      }
    },
    {
      "cell_type": "code",
      "source": [
        "install.packages(\"tidyverse\")\n",
        "install.packages(\"osmdata\")\n",
        "install.packages(\"showtext\")\n",
        "install.packages(\"sf\")\n"
      ],
      "metadata": {
        "id": "wF__FvgCreFG"
      },
      "execution_count": null,
      "outputs": []
    },
    {
      "cell_type": "markdown",
      "source": [
        "Initiating the packages."
      ],
      "metadata": {
        "id": "lNx8VeSay2Gy"
      }
    },
    {
      "cell_type": "code",
      "execution_count": null,
      "metadata": {
        "id": "YTap04DdLWCU"
      },
      "outputs": [],
      "source": [
        "\n",
        "\n",
        "library(tidyverse)\n",
        "library(osmdata) \n",
        "library(showtext) \n",
        "library(sf)\n"
      ]
    },
    {
      "cell_type": "markdown",
      "source": [
        "Getting the features/layers."
      ],
      "metadata": {
        "id": "M1-l73TjzFBt"
      }
    },
    {
      "cell_type": "code",
      "source": [
        "main_streets <- getbb(\"Lancaster, UK\") %>%\n",
        "  opq() %>%\n",
        "  add_osm_feature(key = \"highway\", \n",
        "                  value = c(\"motorway\", \"primary\", \n",
        "                            \"motorway_link\", \"primary_link\")) %>%\n",
        "  osmdata_sf()\n",
        "\n",
        "sec_streets <- getbb(\"Lancaster, UK\") %>%\n",
        "  opq() %>%\n",
        "  add_osm_feature(key = \"highway\", \n",
        "                  value = c(\"secondary\", \"tertiary\", \n",
        "                            \"secondary_link\", \"tertiary_link\")) %>%\n",
        "  osmdata_sf()\n",
        "\n",
        "resid_streets <- getbb(\"Lancaster, UK\") %>%\n",
        "  opq() %>%\n",
        "  add_osm_feature(key = \"highway\", \n",
        "                  value = c(\"residential\", \"living_street\",\n",
        "                            \"unclassified\", \"service\", \"footway\")) %>%\n",
        "  osmdata_sf()\n",
        "\n",
        "rivers <- getbb(\"Lancaster, UK\") %>%\n",
        "  opq() %>%\n",
        "  add_osm_feature(key = \"waterway\", value = \"river\") %>%\n",
        "  osmdata_sf()\n",
        "\n",
        "lakes <- getbb(\"Lancaster, UK\") %>%\n",
        "  opq() %>%\n",
        "  add_osm_feature(key = \"water\", value = c(\"lake\", \"lagoon\")) %>%\n",
        "  osmdata_sf()\n",
        "\n",
        "parks <- getbb(\"Lancaster, UK\") %>%\n",
        "  opq() %>% \n",
        "  add_osm_feature(key = \"leisure\", \n",
        "                  value = c(\"park\",\"nature_reserve\", \"recreation_ground\",\n",
        "                            \"golf_course\",\"pitch\",\"garden\")) %>%\n",
        "  osmdata_sf()\n",
        "\n",
        "railway <- getbb(\"Lancaster, UK\") %>%\n",
        "  opq() %>%\n",
        "  add_osm_feature(key = \"railway\", value = \"rail\") %>%\n",
        "  osmdata_sf()\n",
        "\n",
        "cycleway <- getbb(\"Lancaster, UK\") %>%\n",
        "  opq() %>%\n",
        "  add_osm_feature(key = \"highway\", value = \"cycleway\") %>%\n",
        "  osmdata_sf()\n"
      ],
      "metadata": {
        "id": "2e1BTRKfi466"
      },
      "execution_count": null,
      "outputs": []
    },
    {
      "cell_type": "code",
      "source": [
        "font_add_google(name = \"Roboto\", family = \"roboto\") #custom fonts\n",
        "showtext_auto()\n"
      ],
      "metadata": {
        "id": "JbWO74ZAqH3V"
      },
      "execution_count": null,
      "outputs": []
    },
    {
      "cell_type": "code",
      "source": [
        "plot <- ggplot() +\n",
        "  geom_sf(data = railway$osm_lines,\n",
        "          inherit.aes = FALSE,\n",
        "          color = \"black\",\n",
        "          size = 0.5,\n",
        "          linetype = \"dashed\",\n",
        "          alpha = 0.7) +\n",
        "  geom_sf(data = sec_streets$osm_lines,\n",
        "          inherit.aes = FALSE,\n",
        "          color = \"black\",\n",
        "          size = 0.3,\n",
        "          alpha = 0.5) +\n",
        "  geom_sf(data = resid_streets$osm_lines,\n",
        "          inherit.aes = FALSE,\n",
        "          color = \"#666666\",\n",
        "          size = 0.2,\n",
        "          alpha = 0.3) +\n",
        "  geom_sf(data = main_streets$osm_lines,\n",
        "          inherit.aes = FALSE,\n",
        "          color = \"black\",\n",
        "          size = 0.5,\n",
        "          alpha = 0.6) +\n",
        "  geom_sf(data = cycleway$osm_lines,\n",
        "          inherit.aes = FALSE,\n",
        "          color = \"red\",\n",
        "          size = 0.4,\n",
        "          alpha = 0.5) +\n",
        "  geom_sf(data = parks$osm_polygons, \n",
        "          fill = '#94ba8e',\n",
        "          lwd = 0) +\n",
        "  geom_sf(data = rivers$osm_lines,\n",
        "          inherit.aes = FALSE,\n",
        "          color = \"skyblue\",\n",
        "          size = 0.8,\n",
        "          alpha = 1) +\n",
        "  geom_sf(data = lakes$osm_polygons, \n",
        "          fill = \"skyblue\",\n",
        "          alpha = 1,\n",
        "          lwd = 0) +\n",
        "  coord_sf(xlim = c(-2.845, -2.75), \n",
        "           ylim = c(54.00, 54.06),\n",
        "           expand = FALSE) +\n",
        "  theme_void() + \n",
        "  theme(plot.title = element_text(size = 20, family = \"roboto\", hjust = 0.5),\n",
        "        plot.subtitle = element_text(family = \"roboto\", size = 8, hjust = 0.5, \n",
        "        margin = margin(5, 0, 5, 0))) +\n",
        "  labs(title = \"LANCASTER\", subtitle = \"England, UK\")\n",
        "  \n",
        "  plot #show the plot\n",
        "\n"
      ],
      "metadata": {
        "id": "PQGK7EuuqbS0"
      },
      "execution_count": null,
      "outputs": []
    },
    {
      "cell_type": "code",
      "source": [
        "ggsave(plot, file = \"lancs.pdf\", units = \"in\", width = 8, height = 9) #save the plot\n"
      ],
      "metadata": {
        "id": "51LtYwzqrDBe"
      },
      "execution_count": null,
      "outputs": []
    }
  ],
  "metadata": {
    "accelerator": "GPU",
    "colab": {
      "collapsed_sections": [],
      "name": "Lancaster_map.ipynb",
      "provenance": []
    },
    "gpuClass": "standard",
    "kernelspec": {
      "display_name": "R",
      "name": "ir"
    },
    "language_info": {
      "name": "R"
    }
  },
  "nbformat": 4,
  "nbformat_minor": 0
}